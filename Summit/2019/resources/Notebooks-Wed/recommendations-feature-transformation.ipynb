{
 "cells": [
  {
   "cell_type": "code",
   "execution_count": null,
   "metadata": {},
   "outputs": [],
   "source": [
    "from collections import namedtuple\n",
    "from pyspark.sql.functions import col,split, explode\n",
    "inputDataset=\"5c89949bef707515181cf97a\" # 2019 Summit Platform Lab Backup postValues\n",
    "outputDataset=\"5c927f59012c9615168ba7ec\" # Recommendations Input Dataset"
   ]
  },
  {
   "cell_type": "code",
   "execution_count": null,
   "metadata": {},
   "outputs": [],
   "source": [
    "pd1 = spark.read.format(\"com.adobe.platform.dataset\").option('orgId', \"DF6233FB5C538CAE0A495EF3@AdobeOrg\").load(inputDataset)\n",
    "pd1.describe()"
   ]
  },
  {
   "cell_type": "code",
   "execution_count": null,
   "metadata": {},
   "outputs": [],
   "source": [
    "#Filtering empty values\n",
    "item_id = \"_experience.analytics.customDimensions.eVars.eVar17\"\n",
    "interactionType = \"_experience.analytics.customDimensions.eVars.eVar18\"\n",
    "user_id = \"_experience.analytics.customDimensions.eVars.eVar16\"\n",
    "timestamp = \"timestamp\"\n",
    "\n",
    "pd1 = pd1.filter(pd1[user_id].isNotNull()).filter(pd1[item_id].isNotNull())"
   ]
  },
  {
   "cell_type": "code",
   "execution_count": null,
   "metadata": {},
   "outputs": [],
   "source": [
    "#Splitting item_id to individual records\n",
    "\n",
    "pd0 = pd1.withColumn(\"itemId\",explode(split(col(item_id), \"\\|\\|\")))\n",
    "pd0.describe()"
   ]
  },
  {
   "cell_type": "code",
   "execution_count": null,
   "metadata": {},
   "outputs": [],
   "source": [
    "df = pd0.selectExpr(\"_experience.analytics.customDimensions.eVars.eVar16 as userId\",\n",
    "           \"itemId as itemId\",\n",
    "           \"_experience.analytics.customDimensions.eVars.eVar18 as interactionType\",\n",
    "           \"timestamp as timestamp\")\n",
    "\n",
    "_platformlab05 = namedtuple(\"_platformlab05\", [\"userId\", \"itemId\", \"interactionType\", \"timestamp\"])\n",
    "output = df.rdd.map(lambda parts: { \"_platformlab05\" : _platformlab05(parts[0], parts[1],\n",
    "                                                                                       parts[2], parts[3]),\"timestamp\":parts[3]\n",
    "                           } )\n",
    "df_output = output.toDF()\n",
    "df_output.printSchema()"
   ]
  },
  {
   "cell_type": "code",
   "execution_count": null,
   "metadata": {},
   "outputs": [],
   "source": [
    "userToken = spark.sparkContext.getConf().get('spark.yarn.appMasterEnv.USER_TOKEN')\n",
    "serviceToken = spark.sparkContext.getConf().get('spark.yarn.appMasterEnv.SERVICE_TOKEN')\n",
    "serviceApiKey = spark.sparkContext.getConf().get('spark.yarn.appMasterEnv.SERVICE_API_KEY')\n",
    "df_output.write.format(\"com.adobe.platform.dataset\")\\\n",
    ".option('orgId', \"DF6233FB5C538CAE0A495EF3@AdobeOrg\")\\\n",
    ".option('userToken', userToken)\\\n",
    ".option('serviceToken', serviceToken)\\\n",
    ".option('serviceApiKey', serviceApiKey)\\\n",
    ".save(outputDataset)"
   ]
  }
 ],
 "metadata": {
  "kernelspec": {
   "display_name": "PySpark3",
   "language": "",
   "name": "pyspark3kernel"
  },
  "language_info": {
   "codemirror_mode": {
    "name": "python",
    "version": 3
   },
   "mimetype": "text/x-python",
   "name": "pyspark3",
   "pygments_lexer": "python3"
  }
 },
 "nbformat": 4,
 "nbformat_minor": 2
}
