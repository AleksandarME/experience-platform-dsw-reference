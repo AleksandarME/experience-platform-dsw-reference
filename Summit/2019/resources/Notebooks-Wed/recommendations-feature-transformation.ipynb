{
 "cells": [
  {
   "cell_type": "markdown",
   "metadata": {},
   "source": [
    "## Definitions"
   ]
  },
  {
   "cell_type": "code",
   "execution_count": null,
   "metadata": {},
   "outputs": [],
   "source": [
    "import pandas as pd\n",
    "\n",
    "inputDataset=\"5c8a6dd041819c1518b4a7d8\" # Adobe Analytics: Demo Environment postValues\n",
    "outputDataset=\"5de54156338f2518a7c09577\" # Recommendations Input Dataset For Lab\n",
    "\n",
    "item_id = \"_experience.analytics.customDimensions.eVars.eVar13\"\n",
    "interactionType = \"_experience.analytics.customDimensions.eVars.eVar15\"\n",
    "user_id = \"_experience.analytics.customDimensions.eVars.eVar1\"\n",
    "timestamp = \"timestamp\"\n",
    "tenant_id = \"_experienceplatform\"\n",
    "\n",
    "client_context = PLATFORM_SDK_CLIENT_CONTEXT"
   ]
  },
  {
   "cell_type": "markdown",
   "metadata": {},
   "source": [
    "## Load the purchases data"
   ]
  },
  {
   "cell_type": "code",
   "execution_count": null,
   "metadata": {},
   "outputs": [],
   "source": [
    "from platform_sdk.dataset_reader import DatasetReader\n",
    "\n",
    "dataset_reader = DatasetReader(client_context, inputDataset)\n",
    "df = dataset_reader.limit(50000).read()"
   ]
  },
  {
   "cell_type": "markdown",
   "metadata": {},
   "source": [
    "## Filtering"
   ]
  },
  {
   "cell_type": "code",
   "execution_count": null,
   "metadata": {},
   "outputs": [],
   "source": [
    "# drop nulls\n",
    "df = df.dropna(subset=[user_id, item_id, interactionType])\n"
   ]
  },
  {
   "cell_type": "markdown",
   "metadata": {},
   "source": [
    "## Split items into individual records"
   ]
  },
  {
   "cell_type": "code",
   "execution_count": null,
   "metadata": {},
   "outputs": [],
   "source": [
    "# vectorized (no loops) solution for splitting in pandas\n",
    "# source: https://stackoverflow.com/a/48120674\n",
    "def split_df(dataframe, col_name, sep):\n",
    "    orig_col_index = dataframe.columns.tolist().index(col_name)\n",
    "    orig_index_name = dataframe.index.name\n",
    "    orig_columns = dataframe.columns\n",
    "    dataframe = dataframe.reset_index()\n",
    "    index_col_name = (set(dataframe.columns) - set(orig_columns)).pop()\n",
    "    df_split = pd.DataFrame(\n",
    "        pd.DataFrame(dataframe[col_name].str.split(sep).tolist())\n",
    "        .stack().reset_index(level=1, drop=1), columns=[col_name])\n",
    "    df = dataframe.drop(col_name, axis=1)\n",
    "    df = pd.merge(df, df_split, left_index=True, right_index=True, how='inner')\n",
    "    df = df.set_index(index_col_name)\n",
    "    df.index.name = orig_index_name\n",
    "\n",
    "    return df\n",
    "\n",
    "df2 = split_df(df, item_id, \"\\|\\|\")"
   ]
  },
  {
   "cell_type": "markdown",
   "metadata": {},
   "source": [
    "# Data Prep for saving back to platform"
   ]
  },
  {
   "cell_type": "code",
   "execution_count": null,
   "metadata": {},
   "outputs": [],
   "source": [
    "filtered_column_list = [item_id, user_id, interactionType, timestamp]\n",
    "\n",
    "df2 = df2[filtered_column_list]\n",
    "\n",
    "\n",
    "df2.rename(columns={\n",
    "    item_id: tenant_id + \".itemId\",\n",
    "    user_id: tenant_id + \".userId\",\n",
    "    interactionType: tenant_id + \".interactionType\"\n",
    "}, inplace=True)\n",
    "df2[tenant_id +'.timestamp'] = df2['timestamp']\n"
   ]
  },
  {
   "cell_type": "markdown",
   "metadata": {},
   "source": [
    "# Write new dataframe to platform"
   ]
  },
  {
   "cell_type": "code",
   "execution_count": null,
   "metadata": {},
   "outputs": [],
   "source": [
    "from platform_sdk.models import Dataset\n",
    "from platform_sdk.dataset_writer import DatasetWriter\n",
    "dataset = Dataset(PLATFORM_SDK_CLIENT_CONTEXT).get_by_id(dataset_id=outputDataset)\n",
    "dataset_writer = DatasetWriter(PLATFORM_SDK_CLIENT_CONTEXT, dataset)\n",
    "write_tracker = dataset_writer.write(df2, file_format='json')"
   ]
  }
 ],
 "metadata": {
  "kernelspec": {
   "display_name": "Python 3",
   "language": "python",
   "name": "python3"
  },
  "language_info": {
   "codemirror_mode": {
    "name": "ipython",
    "version": 3
   },
   "file_extension": ".py",
   "mimetype": "text/x-python",
   "name": "python",
   "nbconvert_exporter": "python",
   "pygments_lexer": "ipython3",
   "version": "3.6.7"
  }
 },
 "nbformat": 4,
 "nbformat_minor": 4
}
